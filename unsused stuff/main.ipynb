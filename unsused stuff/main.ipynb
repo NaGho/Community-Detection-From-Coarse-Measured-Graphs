{
 "cells": [
  {
   "cell_type": "code",
   "execution_count": 1,
   "metadata": {},
   "outputs": [],
   "source": [
    "# In the name of God\n",
    "import numpy as np\n",
    "import json\n",
    "import os,sys,inspect\n",
    "from GraphL_Utils import SignalGen, signal2Graph, graphGen_PostProcessing, plot_graph_density\n",
    "from supervised_tasks import LoadCore\n",
    "# currentdir = os.path.dirname(os.path.abspath(inspect.getfile(inspect.currentframe())))\n",
    "# parentdir = os.path.dirname(currentdir)\n",
    "# sys.path.insert(0,parentdir) \n",
    "# from final_graphL_feat_class.supervised_tasks import LoadCore, data_load, PreProcessing\n",
    "# sys.path.insert(0,currentdir) \n",
    "# os.environ[\"CUDA_VISIBLE_DEVICES\"] = \"\"\n",
    "\n",
    "class TaskCore (object):\n",
    "    def __init__(self, data_dir, settings_dir, target, graphL_model, signal_mode, sidinfo_dir=None, \\\n",
    "                 cv_ratio=None, adj_calc_mode=None, TrainTest_mode=None, supervised=None):\n",
    "        self.data_dir = data_dir\n",
    "        self.settings_dir = settings_dir\n",
    "        self.target = target\n",
    "        self.graphL_model = graphL_model\n",
    "        self.signal_mode = signal_mode\n",
    "        self.sidinfo_dir = sidinfo_dir\n",
    "        self.cv_ratio = cv_ratio\n",
    "        self.adj_calc_mode = adj_calc_mode\n",
    "        self.TrainTest_mode = TrainTest_mode\n",
    "        self.supervised = supervised\n",
    "        \n",
    "        \n",
    "        \n",
    "# Initializations\n",
    "plotting_flag = True\n",
    "with open('SETTINGS.json') as f:\n",
    "    settings = json.load(f)\n",
    "targets = [253, 264, 273, 375, 384, 548, 565, 583, 590, 620, 862, 916, 922, 958, 970, \\\n",
    "                        1084, 1096, 1146, 115, 139, 442, 635, 818, 1073, 1077, 1125, 1150, 732, 13089, 13245]\n",
    "target = 1096\n",
    "graphL_model = 'covariance' #  ----- 'correlation', 'covariance', 'coherence' \n",
    "signal_mode = 'ECoG' #  'ECoG', 'toy' \n",
    "load_core = LoadCore(preszr_sec=10, postszr_sec=10000, band_nums=None)\n",
    "task_core = TaskCore(data_dir=str(settings['data-dir-FFT']) if 'coherence' in graphL_model \n",
    "                                     else str(settings['data-dir-Raw']),\\\n",
    "                                     settings_dir=str(settings['settings-dir-FFT'])  if 'coherence' in graphL_model \n",
    "                                     else str(settings['settings-dir-Raw']),\\\n",
    "                                     target=target, graphL_model=graphL_model, signal_mode=signal_mode) "
   ]
  },
  {
   "cell_type": "code",
   "execution_count": 2,
   "metadata": {},
   "outputs": [
    {
     "name": "stdout",
     "output_type": "stream",
     "text": [
      "Loading ECoG Data ...\n"
     ]
    },
    {
     "name": "stderr",
     "output_type": "stream",
     "text": [
      "C:\\ProgramData\\Anaconda3\\lib\\site-packages\\h5py\\_hl\\dataset.py:313: H5pyDeprecationWarning: dataset.value has been deprecated. Use dataset[()] instead.\n",
      "  \"Use dataset[()] instead.\", H5pyDeprecationWarning)\n"
     ]
    },
    {
     "name": "stdout",
     "output_type": "stream",
     "text": [
      "    X training (3956, 61, 640, 1) y training (3956,)\n",
      "    X testing (4105, 61, 640, 1) y testing (4105,)\n",
      "data_load_core.dimArray (640, 1)\n",
      "    time elapsed:  15.17199993133545\n"
     ]
    }
   ],
   "source": [
    "# Data Loading\n",
    "X, y, num_nodes, dimArray = SignalGen(task_core).run(load_core)"
   ]
  },
  {
   "cell_type": "code",
   "execution_count": null,
   "metadata": {},
   "outputs": [],
   "source": [
    "# Graph Learning\n",
    "print('X shape: ', X.shape)\n",
    "W = signal2Graph(graphL_model, X)\n",
    "print('W shape: ', W.shape)\n",
    "if(False):\n",
    "    W = graphGen_PostProcessing(W)\n",
    "if(plotting_flag):\n",
    "    plot_graph_density(W)"
   ]
  },
  {
   "cell_type": "code",
   "execution_count": null,
   "metadata": {},
   "outputs": [],
   "source": [
    "%debug"
   ]
  },
  {
   "cell_type": "code",
   "execution_count": null,
   "metadata": {},
   "outputs": [],
   "source": []
  }
 ],
 "metadata": {
  "kernelspec": {
   "display_name": "Python 3",
   "language": "python",
   "name": "python3"
  },
  "language_info": {
   "codemirror_mode": {
    "name": "ipython",
    "version": 3
   },
   "file_extension": ".py",
   "mimetype": "text/x-python",
   "name": "python",
   "nbconvert_exporter": "python",
   "pygments_lexer": "ipython3",
   "version": "3.7.4"
  }
 },
 "nbformat": 4,
 "nbformat_minor": 2
}
